{
 "cells": [
  {
   "cell_type": "code",
   "execution_count": 1,
   "metadata": {
    "collapsed": true
   },
   "outputs": [],
   "source": [
    "from autograd import grad, hessian\n",
    "import autograd.numpy as np\n",
    "import autograd.scipy as sp\n",
    "from scipy.stats import gaussian_kde\n",
    "from scipy import misc\n",
    "from scipy.stats import norm\n",
    "from scipy.optimize import minimize\n",
    "\n",
    "import math\n",
    "\n",
    "%matplotlib inline\n",
    "import matplotlib.pyplot as plt"
   ]
  },
  {
   "cell_type": "code",
   "execution_count": 14,
   "metadata": {
    "collapsed": true
   },
   "outputs": [],
   "source": [
    "\n",
    "class Model(object):\n",
    "    def __init__(self, x_info, s_info, num_draws):\n",
    "        self.x_info = x_info\n",
    "        self.s_info = s_info\n",
    "        self.s_draws = np.random.normal(loc=0, scale=1 / np.sqrt(s_info), size=num_draws)\n",
    "        self.std_draws = np.random.normal(size=num_draws)\n",
    "        self.x_draws = None\n",
    "        self.x_dens = None\n",
    "        \n",
    "        self.log_joint_grad = grad(self.log_joint)\n",
    "        self.log_joint_hess = hessian(self.log_joint)\n",
    "\n",
    "    def mean_func(self, s, theta):\n",
    "        return theta * np.arctan(s) # This is a good illustrative nonlinear choice\n",
    "        #return theta * s + 0.3 # This is a good illustrative nonlinear choice\n",
    "        \n",
    "    def log_prob_x_given_s(self, x, s, theta):\n",
    "        return -0.5 * self.x_info * (x - self.mean_func(s, theta))**2 + \\\n",
    "               0.5 * np.log(self.x_info) - 0.5 * np.log(2 * math.pi)\n",
    "     \n",
    "    def log_prob_s(self, s):\n",
    "        return -0.5 * self.s_info * (s**2) + 0.5 * np.log(self.s_info) - 0.5 * np.log(2 * math.pi)\n",
    "    \n",
    "    def log_joint(self, s, x, theta):\n",
    "        lik =  self.log_prob_x_given_s(x, s, theta) + self.log_prob_s(s)\n",
    "        return lik\n",
    "    \n",
    "    def simulate_x(self, theta):\n",
    "        self.x_draws = self.std_draws / np.sqrt(self.x_info) + model.mean_func(self.s_draws, theta)\n",
    "        self.x_dens = gaussian_kde(self.x_draws)\n",
    "        \n",
    "    def log_prob(self, theta, x_obs):\n",
    "        self.simulate_x(theta)\n",
    "        return model.x_dens.logpdf(x_obs)\n",
    "    \n",
    "    def get_s_given_x_approx(self, theta, x_obs, s_mode_guess):\n",
    "        s_opt_result = \\\n",
    "         minimize(lambda s: -1 * self.log_joint(s, x_obs, theta), s_mode_guess,\n",
    "                  method='Nelder-Mead', options={'disp': False})\n",
    "\n",
    "        s_opt = s_opt_result.x[0]\n",
    "        d = self.log_joint_hess(s_opt, x_obs, theta)\n",
    "\n",
    "        if not s_opt_result.success:\n",
    "            print 'Theta = %f, x_obs = %f' % (theta, x_obs)\n",
    "            print s_opt_result\n",
    "\n",
    "        assert s_opt_result.success\n",
    "        assert d < 0\n",
    "\n",
    "        return s_opt, 1 / (-d)\n",
    "\n",
    "    def get_uros_log_prob(self, theta, x_obs, s_mode_guess=0.1):\n",
    "        # Need to add back in a half log 2 pi to cancel the one from log_prob_s.\n",
    "        s_opt, s_var = self.get_s_given_x_approx(theta, x_obs, s_mode_guess)\n",
    "        return self.log_prob_x_given_s(x_obs, s_opt, theta) + \\\n",
    "               self.log_prob_s(s_opt) + 0.5 * np.log(s_var) + 0.5 * np.log(2 * math.pi)\n",
    "\n",
    "\n",
    "\n",
    "        "
   ]
  },
  {
   "cell_type": "code",
   "execution_count": 3,
   "metadata": {},
   "outputs": [
    {
     "name": "stdout",
     "output_type": "stream",
     "text": [
      "0.997302862514\n",
      "0.977926213163\n"
     ]
    }
   ],
   "source": [
    "# Sanity checks.\n",
    "\n",
    "model = Model(x_info=100., s_info=5., num_draws=100000)\n",
    "\n",
    "marginal_s_grid = np.linspace(-3 / np.sqrt(model.s_info), 3 / np.sqrt(model.s_info), 10000)\n",
    "print np.sum(np.exp([ model.log_prob_s(s) for s in marginal_s_grid ])) * (marginal_s_grid[1] - marginal_s_grid[0])\n",
    "\n",
    "conditional_x_grid = np.linspace(-3 / np.sqrt(model.x_info), 3 / np.sqrt(model.x_info), 10000)\n",
    "print np.sum(np.exp([ model.log_prob_x_given_s(x, 0.2, 0.5) for x in conditional_x_grid ])) * \\\n",
    "    (conditional_x_grid[1] - conditional_x_grid[0])\n"
   ]
  },
  {
   "cell_type": "code",
   "execution_count": 4,
   "metadata": {},
   "outputs": [],
   "source": [
    "# Look directly at the marginals.\n",
    "\n",
    "def get_log_s_given_x_grid(model, theta, x_obs, s_mode_guess=0.1, num_sd=4.0, grid_size=100):\n",
    "    s_opt, s_var = model.get_s_given_x_approx(theta, x_obs, s_mode_guess)\n",
    "    s_grid = np.linspace(s_opt - num_sd * np.sqrt(s_var), s_opt + num_sd * np.sqrt(s_var), grid_size)\n",
    "    log_p_s_given_x = model.log_joint(s_grid, x_obs, theta)\n",
    "    s_delta = s_grid[1] - s_grid[0]\n",
    "    return s_grid, log_p_s_given_x - sp.misc.logsumexp(log_p_s_given_x) - np.log(s_delta), s_opt, s_var\n",
    "\n",
    "\n"
   ]
  },
  {
   "cell_type": "code",
   "execution_count": 12,
   "metadata": {},
   "outputs": [
    {
     "name": "stdout",
     "output_type": "stream",
     "text": [
      "Total mass (should be close to one):\n",
      "0.999936764534\n",
      "Total mass (should be close to one):\n",
      "0.9999468903\n",
      "1.0\n"
     ]
    },
    {
     "data": {
      "text/plain": [
       "[<matplotlib.lines.Line2D at 0x7facb2b48610>]"
      ]
     },
     "execution_count": 12,
     "metadata": {},
     "output_type": "execute_result"
    },
    {
     "data": {
      "image/png": "[encoded data removed]",
      "text/plain": [
       "<matplotlib.figure.Figure at 0x7facb2e2c450>"
      ]
     },
     "metadata": {},
     "output_type": "display_data"
    }
   ],
   "source": [
    "model = Model(x_info=1000., s_info=0.01, num_draws=100000)\n",
    "\n",
    "marginal_s_grid = np.linspace(-4 / np.sqrt(model.s_info), 4 / np.sqrt(model.s_info), 10000)\n",
    "\n",
    "print 'Total mass (should be close to one):'\n",
    "print np.sum(np.exp([ model.log_prob_s(s) for s in marginal_s_grid ]) * (marginal_s_grid[1] - marginal_s_grid[0]))\n",
    "\n",
    "theta = 5.0\n",
    "model.simulate_x(theta) \n",
    "x_obs = np.median(model.x_draws)\n",
    "s_grid, log_p_s_given_x, s_opt, s_var = get_log_s_given_x_grid(model, theta, x_obs, grid_size=100, num_sd=4)\n",
    "log_p_s_given_x_quadratic = [ -0.5 * ((s - s_opt)**2) / s_var - 0.5 * np.log(s_var) - 0.5 * np.log(2 * math.pi) \\\n",
    "                              for s in s_grid ]\n",
    "\n",
    "# When the x information is very high, this should be approximately quadratic, irrespective\n",
    "# of the amount of s information.\n",
    "delta_s = s_grid[1] - s_grid[0]\n",
    "\n",
    "print 'Total mass (should be close to one):'\n",
    "print np.sum(np.exp(log_p_s_given_x_quadratic) * delta_s)\n",
    "print np.sum(np.exp(log_p_s_given_x) * delta_s)\n",
    "\n",
    "plt.plot(s_grid, log_p_s_given_x)\n",
    "plt.plot(s_grid, log_p_s_given_x_quadratic)\n",
    "\n"
   ]
  },
  {
   "cell_type": "code",
   "execution_count": 13,
   "metadata": {},
   "outputs": [
    {
     "name": "stdout",
     "output_type": "stream",
     "text": [
      "1.84765564708\n",
      "-1.8592641117\n",
      "Total mass (should be close to one):\n",
      "0.834455204604\n",
      "1.0\n",
      "Uros log normalizer (should be close to zero):\n",
      "-0.0116084646163\n"
     ]
    },
    {
     "data": {
      "text/plain": [
       "[<matplotlib.lines.Line2D at 0x7facb29abfd0>]"
      ]
     },
     "execution_count": 13,
     "metadata": {},
     "output_type": "execute_result"
    },
    {
     "data": {
      "image/png": "[encoded data removed]",
      "text/plain": [
       "<matplotlib.figure.Figure at 0x7facb2afc050>"
      ]
     },
     "metadata": {},
     "output_type": "display_data"
    }
   ],
   "source": [
    "# Compare the marginal x density from simulation to eq. 4.6 in the paper.  In contrast to\n",
    "# the conditional distribution, when s_info is low, you'd not expect eq. 4.6 and the true\n",
    "# marginal to look similar, even when the conditional P(s | x) is nearly quadratic.\n",
    "\n",
    "x_grid = np.linspace(np.percentile(model.x_draws, 100 * 0.001),\n",
    "                     np.percentile(model.x_draws, 100 * 0.999), 100)\n",
    "\n",
    "delta_x = x_grid[1] - x_grid[0]\n",
    "x_log_prob = model.x_dens.logpdf(x_grid)\n",
    "uros_x_log_prob_nonnorm = [ model.get_uros_log_prob(model, theta, x) for x in x_grid ]\n",
    "print sp.misc.logsumexp(uros_x_log_prob_nonnorm)\n",
    "print np.log(delta_x)\n",
    "uros_log_normalizer = sp.misc.logsumexp(uros_x_log_prob_nonnorm) + np.log(delta_x)\n",
    "uros_x_log_prob = uros_x_log_prob_nonnorm - uros_log_normalizer\n",
    "\n",
    "# Sanity check the density.  Should be close to one.\n",
    "print 'Total mass (should be close to one):'\n",
    "print np.sum(delta_x * np.exp(x_log_prob))\n",
    "print np.sum(delta_x * np.exp(uros_x_log_prob))\n",
    "\n",
    "# It's not totally clear to me why this wouldn't be normalized if the assumptions are correct.\n",
    "print 'Uros log normalizer (should be close to zero):'\n",
    "print uros_log_normalizer\n",
    "\n",
    "plt.plot(x_grid, x_log_prob)\n",
    "plt.plot(x_grid, uros_x_log_prob)\n",
    "\n",
    "x_max_ind = np.argmax(x_log_prob)\n",
    "x_obs = x_grid[x_max_ind]\n",
    "plt.plot(x_obs, x_log_prob[x_max_ind], 'ro')\n"
   ]
  },
  {
   "cell_type": "code",
   "execution_count": 7,
   "metadata": {},
   "outputs": [
    {
     "data": {
      "text/plain": [
       "\"\\nmodel = Model(x_info=10., s_info=1., num_draws=1000)\\n\\nx_obs = 10.\\ntheta = 1 / (x_obs * model.s_info)\\ns = 0.1\\n\\nprint np.matrix(model.log_joint_hess(s, x_obs, theta))\\nstd_draws = norm.ppf(np.arange(0.001, 0.999, 0.001))\\n\\ndef get_s_draws_given_x(theta, x_obs):\\n    s_opt, s_var = model.get_s_given_x_approx(theta, x_obs, s)\\n    s_draws = std_draws * np.sqrt(s_var) + s_opt\\n    return s_draws\\n\\n    \\ndef m_step(theta, s_draws, x_obs):\\n    theta_opt_result =         minimize(lambda theta: -1 * np.mean(model.log_prob_x_given_s(x_obs, s_draws, theta)),\\n                 theta,\\n                 method='Nelder-Mead')\\n    assert theta_opt_result.success\\n    return theta_opt_result.x[0]\\n\\ntheta_old = theta\\ndiff = float('inf')\\n\\n# You probably need more iters to actually converge.\\nmax_iters = 100\\niteration = 0\\nwhile diff > 1e-8 and iteration < max_iters:\\n    iteration += 1\\n    s_draws = get_s_draws_given_x(theta_old, x_obs)\\n    theta_new = m_step(theta_old, s_draws, x_obs)\\n    diff = np.abs(theta_new - theta_old)\\n    print 'Theta: %f   Diff: %f    Iter: %d' % (theta_new, diff, iteration)\\n    theta_old = theta_new\\n\\nprint 'Done:'\\nprint('Maximizer: ', theta_new)\\n\""
      ]
     },
     "execution_count": 7,
     "metadata": {},
     "output_type": "execute_result"
    }
   ],
   "source": [
    "# Perform EM if you're interested.\n",
    "\n",
    "\"\"\"\n",
    "model = Model(x_info=10., s_info=1., num_draws=1000)\n",
    "\n",
    "x_obs = 10.\n",
    "theta = 1 / (x_obs * model.s_info)\n",
    "s = 0.1\n",
    "\n",
    "print np.matrix(model.log_joint_hess(s, x_obs, theta))\n",
    "std_draws = norm.ppf(np.arange(0.001, 0.999, 0.001))\n",
    "\n",
    "def get_s_draws_given_x(theta, x_obs):\n",
    "    s_opt, s_var = model.get_s_given_x_approx(theta, x_obs, s)\n",
    "    s_draws = std_draws * np.sqrt(s_var) + s_opt\n",
    "    return s_draws\n",
    "\n",
    "    \n",
    "def m_step(theta, s_draws, x_obs):\n",
    "    theta_opt_result = \\\n",
    "        minimize(lambda theta: -1 * np.mean(model.log_prob_x_given_s(x_obs, s_draws, theta)),\n",
    "                 theta,\n",
    "                 method='Nelder-Mead')\n",
    "    assert theta_opt_result.success\n",
    "    return theta_opt_result.x[0]\n",
    "\n",
    "theta_old = theta\n",
    "diff = float('inf')\n",
    "\n",
    "# You probably need more iters to actually converge.\n",
    "max_iters = 100\n",
    "iteration = 0\n",
    "while diff > 1e-8 and iteration < max_iters:\n",
    "    iteration += 1\n",
    "    s_draws = get_s_draws_given_x(theta_old, x_obs)\n",
    "    theta_new = m_step(theta_old, s_draws, x_obs)\n",
    "    diff = np.abs(theta_new - theta_old)\n",
    "    print 'Theta: %f   Diff: %f    Iter: %d' % (theta_new, diff, iteration)\n",
    "    theta_old = theta_new\n",
    "\n",
    "print 'Done:'\n",
    "print('Maximizer: ', theta_new)\n",
    "\"\"\""
   ]
  }
 ],
 "metadata": {
  "kernelspec": {
   "display_name": "Python 2",
   "language": "python",
   "name": "python2"
  },
  "language_info": {
   "codemirror_mode": {
    "name": "ipython",
    "version": 2
   },
   "file_extension": ".py",
   "mimetype": "text/x-python",
   "name": "python",
   "nbconvert_exporter": "python",
   "pygments_lexer": "ipython2",
   "version": "2.7.12"
  }
 },
 "nbformat": 4,
 "nbformat_minor": 2
}
