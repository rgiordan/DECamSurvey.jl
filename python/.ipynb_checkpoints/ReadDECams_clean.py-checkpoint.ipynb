{
 "cells": [
  {
   "cell_type": "code",
   "execution_count": null,
   "metadata": {
    "collapsed": true
   },
   "outputs": [],
   "source": [
    "import fitsio\n",
    "from fitsio import FITS, FITSHDR\n",
    "from astropy import wcs\n",
    "import numpy as np\n",
    "import pandas as pd\n",
    "import os\n",
    "import matplotlib.pyplot as plt\n",
    "import copy\n",
    "%matplotlib notebook\n",
    "\n",
    "from kernels import eval_cubic_kernel, cubic_shift_image, eval_cubic_interpolation"
   ]
  },
  {
   "cell_type": "code",
   "execution_count": null,
   "metadata": {
    "collapsed": true
   },
   "outputs": [],
   "source": [
    "git_path = os.environ['GIT_REPO_LOC']\n",
    "data_path = os.path.join(git_path, 'DECamSurvey.jl/dat')\n",
    "fname_head = 'c4d_160302_094418'\n",
    "image_filename = os.path.join(data_path, fname_head + '_oki_z_v1.fits')\n",
    "mask_filename = os.path.join(data_path, fname_head + '_ood_z_v1.fits')\n",
    "dr3_object = fitsio.read_header(image_filename)['OBJECT']"
   ]
  },
  {
   "cell_type": "code",
   "execution_count": null,
   "metadata": {},
   "outputs": [],
   "source": [
    "# Load an image.\n",
    "image_index = 3\n",
    "image = fitsio.read(image_filename, ext=image_index)\n",
    "image_mask = fitsio.read(mask_filename, ext=image_index)\n",
    "header = fitsio.read_header(image_filename, ext=image_index)\n",
    "im_wcs = wcs.WCS(header)\n",
    "avsky = header[\"AVSKY\"]\n",
    "ccdnum = header[\"CCDNUM\"]\n",
    "\n",
    "print 'Good pixel proportion:'\n",
    "print np.sum(image_mask == 0) / float(np.prod(image_mask.shape))\n",
    "image[image_mask == 1] = float('nan')\n",
    "# plt.matshow(np.log10(image), interpolation=\"nearest\")\n",
    "# plt.colorbar()"
   ]
  },
  {
   "cell_type": "code",
   "execution_count": null,
   "metadata": {},
   "outputs": [],
   "source": [
    "# Load some CCD information.\n",
    "decals_details_filename = os.path.join(data_path, 'survey-ccds-decals.fits')\n",
    "decals_details_fits = fitsio.FITS(decals_details_filename)\n",
    "\n",
    "# Don't do this:\n",
    "# for row in decals_details_fits[1]['CCDNUM', 'IMAGE_FILENAME']:\n",
    "#     print row\n",
    "\n",
    "    \n",
    "    # decals_details = fitsio.read(decals_details_filename,\n",
    "#                              columns=[ 'IMAGE_FILENAME', 'CCDNUM', 'EXPTIME', 'CCDZPT' ], ext=1)\n",
    "\n",
    "# print decals_details\n",
    "\n",
    "# filename_row =\n",
    "#     [ contains(file_row, fname_head) for file_row in decals_fnames ] &\n",
    "#     (decals_ccdnums .== ccdnum));\n",
    "# @assert sum(filename_row) == 1\n",
    "\n",
    "\n",
    "# For converting catalog fluxes to images\n",
    "#count_per_flux = 1 / (10**((22.5 - ccdzpt) / 2.5) / exptime)\n",
    "\n"
   ]
  },
  {
   "cell_type": "code",
   "execution_count": null,
   "metadata": {},
   "outputs": [],
   "source": [
    "# Load the catalog.\n",
    "\n",
    "def get_brick_names_for_image(header, brick_filename):\n",
    "    # First select the bricks that overlap with the image.\n",
    "    ra_corners = [ header['COR%dRA1' % (i + 1)] for i in range(4)]\n",
    "    dec_corners = [ header['COR%dDEC1' % (i + 1)] for i in range(4)]\n",
    "    brick_select = \\\n",
    "      'ra2 > {ramin} && ra1 < {ramax} && dec2 > {decmin} && dec1 < {decmax}'.format(\n",
    "          ramin=np.min(ra_corners), ramax=np.max(ra_corners),\n",
    "          decmin=np.min(dec_corners), decmax=np.max(dec_corners))\n",
    "\n",
    "    brick_fits = fitsio.FITS(brick_filename)\n",
    "    keep_rows = brick_fits[1].where(brick_select) \n",
    "    bricks = brick_fits[1]['brickname'][keep_rows]\n",
    "    brick_fits.close()\n",
    "    \n",
    "    return bricks\n",
    "\n",
    "brick_filename = os.path.join(data_path, 'survey-bricks.fits')\n",
    "bricks = get_brick_names_for_image(header, brick_filename)\n",
    "print bricks\n"
   ]
  },
  {
   "cell_type": "code",
   "execution_count": null,
   "metadata": {},
   "outputs": [],
   "source": [
    "def load_catalog(tractor_filename):\n",
    "    tractor_fits = fitsio.FITS(tractor_filename)\n",
    "    tractor_header = fitsio.read_header(tractor_filename, ext=1)\n",
    "    catalog_cols = [ 'type', 'ra', 'dec', 'cpu_source', 'decam_flux', 'wise_flux',\n",
    "                      'fracdev', 'shapeexp_r', 'shapedev_r' ]\n",
    "\n",
    "    objid = tractor_fits[1]['objid'][:]\n",
    "\n",
    "    catalog_df = pd.DataFrame({'objid': objid})\n",
    "    for catalog_col in catalog_cols:\n",
    "        tractor_data = tractor_fits[1][catalog_col][:]\n",
    "        if len(tractor_data.shape) == 1:\n",
    "            catalog_df[catalog_col] = tractor_data\n",
    "        else:\n",
    "            for col in range(tractor_data.shape[1]):\n",
    "                catalog_df[catalog_col + str(col + 1)] = tractor_data[:, col]\n",
    "\n",
    "    return catalog_df\n",
    "\n",
    "tractor_filenames = \\\n",
    "    [ os.path.join(data_path, 'tractor-{brickname}.fits'.format(brickname=brick)) \\\n",
    "      for brick in bricks]\n",
    "\n",
    "catalog_df = pd.concat([ load_catalog(fname) for fname in tractor_filenames ])\n",
    "\n",
    "# Have to trim whitespace from the type for some reason.\n",
    "catalog_df['type'] = catalog_df['type'].map(lambda t: t.strip())\n",
    "\n",
    "print catalog_df.shape"
   ]
  },
  {
   "cell_type": "code",
   "execution_count": null,
   "metadata": {},
   "outputs": [],
   "source": [
    "# Filter the catalog to objects located in the current image.  Note that,\n",
    "# unlike Julia, I will use zero indexing to match Python.\n",
    "pix = im_wcs.wcs_world2pix(catalog_df[['ra', 'dec']].as_matrix(), 0)\n",
    "\n",
    "# Note that the image is transposed relative to Julia, so the image is indexed [pix_w, pix_h].\n",
    "print np.min(pix, 0)\n",
    "print np.max(pix, 0)\n",
    "print image.shape\n",
    "\n",
    "row_in_image = \\\n",
    "    np.logical_and.reduce([ pix[:, 0] >= 0,\n",
    "                            pix[:, 0] <= image.shape[1] - 1,\n",
    "                            pix[:, 1] >= 0,\n",
    "                            pix[:, 1] <= image.shape[0] - 1 ])\n",
    "\n",
    "catalog_df = catalog_df[row_in_image]\n",
    "catalog_df['pix_h'] = pix[row_in_image, 0]\n",
    "catalog_df['pix_w'] = pix[row_in_image, 1]\n",
    "print catalog_df.shape"
   ]
  },
  {
   "cell_type": "code",
   "execution_count": null,
   "metadata": {},
   "outputs": [],
   "source": [
    "# Display the catalog objects.\n",
    "bright_rows = catalog_df['decam_flux5'] > 300\n",
    "\n",
    "plt.matshow(np.log10(image))\n",
    "plt.colorbar()\n",
    "plt.plot(catalog_df[bright_rows]['pix_h'], catalog_df[bright_rows]['pix_w'], 'ro')"
   ]
  },
  {
   "cell_type": "code",
   "execution_count": null,
   "metadata": {},
   "outputs": [],
   "source": [
    "# This is an L_\\infty \"radius\".\n",
    "def get_pixel_box(pix_h, pix_w, pix_radius, image_shape):\n",
    "    h_min = np.max([int(np.floor(pix_h - pix_radius)), 0])\n",
    "    w_min = np.max([int(np.floor(pix_w - pix_radius)), 0])\n",
    "    h_max = np.min([int(np.ceil(pix_h + pix_radius)), image_shape[1]])\n",
    "    w_max = np.min([int(np.ceil(pix_w + pix_radius)), image_shape[0]])\n",
    "\n",
    "    return slice(h_min, h_max), slice(w_min, w_max)\n",
    "        \n",
    "h_slice, w_slice = get_pixel_box(3, 100.1, 3.1, image.shape)\n",
    "print image[w_slice, h_slice]"
   ]
  },
  {
   "cell_type": "code",
   "execution_count": null,
   "metadata": {},
   "outputs": [],
   "source": [
    "# Filter out galaxy pixels.\n",
    "\n",
    "filter_image = copy.deepcopy(image)\n",
    "# print [ type.strip() for type in catalog_df['type'] ]\n",
    "# gal_rows = [ type.strip() == 'PSF' for type in catalog_df['type'] ] \n",
    "gal_rows = catalog_df['type'] != 'PSF'\n",
    "\n",
    "print 'Proportion of objects that are galaxies:'\n",
    "print np.sum(gal_rows) / float(catalog_df.shape[0])\n",
    "\n",
    "for index, row in catalog_df[gal_rows].iterrows():\n",
    "    # These radii are in pixels.\n",
    "    radius = np.max([8 * row['shapedev_r'], 8 * row['shapeexp_r'], 3.0])\n",
    "    h_slice, w_slice = get_pixel_box(row['pix_h'], row['pix_w'], radius, filter_image.shape)\n",
    "    filter_image[w_slice, h_slice] = float('nan')\n"
   ]
  },
  {
   "cell_type": "code",
   "execution_count": null,
   "metadata": {},
   "outputs": [],
   "source": [
    "#plt.matshow(np.log10(filter_image))\n",
    "#plt.colorbar()\n",
    "#plt.plot(catalog_df[gal_rows]['pix_h'], catalog_df[gal_rows]['pix_w'], 'ro')"
   ]
  },
  {
   "cell_type": "code",
   "execution_count": null,
   "metadata": {},
   "outputs": [],
   "source": [
    "bright_star_rows = np.logical_and(catalog_df['type'] == 'PSF', catalog_df['decam_flux5'] > 300)\n",
    "row = catalog_df[bright_star_rows].iloc[0]\n",
    "h_slice, w_slice = get_pixel_box(row['pix_h'], row['pix_w'], 10, filter_image.shape)\n",
    "plt.matshow(filter_image[w_slice, h_slice])\n",
    "star_pix_loc = [row['pix_w'] - w_slice.start, row['pix_h'] - h_slice.start]\n",
    "plt.plot(star_pix_loc[0], star_pix_loc[1], 'ro')\n",
    "plt.colorbar()"
   ]
  },
  {
   "cell_type": "code",
   "execution_count": null,
   "metadata": {},
   "outputs": [],
   "source": [
    "# Make a little gaussian image for a PSF.\n",
    "\n",
    "psf_size = 15\n",
    "psf_image = np.zeros([psf_size, psf_size])\n",
    "psf_center = np.array([ 0.5 * (float(psf_image.shape[0]) - 1), 0.5 * (float(psf_image.shape[1]) - 1)])\n",
    "gauss_loc = np.array(psf_center)\n",
    "gauss_var = 0.75**2\n",
    "for x, y in np.ndindex(psf_image.shape):\n",
    "    psf_image[x, y] = np.exp(-0.5 * np.linalg.norm(np.array([x, y]) - gauss_loc) / gauss_var)\n",
    "plt.matshow(psf_image)\n"
   ]
  },
  {
   "cell_type": "code",
   "execution_count": null,
   "metadata": {},
   "outputs": [],
   "source": [
    "star_loc_offset = star_pix_loc - psf_center\n",
    "star_int_offset = [ int(np.floor(x)) for x in star_loc_offset ]\n",
    "star_delta = star_loc_offset - star_int_offset\n",
    "\n",
    "# This slice is where the interpolated PSF would go in the star image if the star_delta were zero.\n",
    "# Add a two row2 to each side for the interpolation.\n",
    "w_psf_slice = slice(star_int_offset[0] - 2, star_int_offset[0] + psf_image.shape[0] + 2)\n",
    "h_psf_slice = slice(star_int_offset[1] - 2, star_int_offset[1] + psf_image.shape[1] + 2)\n",
    "plt.matshow(filter_image[w_slice, h_slice][w_psf_slice, h_psf_slice])\n",
    "plt.plot(star_delta[0] + psf_center[0] + 2, star_delta[1] + psf_center[1] + 2, 'ro')\n"
   ]
  },
  {
   "cell_type": "code",
   "execution_count": null,
   "metadata": {},
   "outputs": [],
   "source": [
    "star_image = np.zeros_like(filter_image[w_slice, h_slice])\n",
    "star_image.fill(avsky)\n",
    "cubic_shift_image(star_delta, 150000.0 * psf_image, star_image[w_psf_slice, h_psf_slice], 2.0)\n",
    "\n",
    "plt.matshow(filter_image[w_slice, h_slice] - star_image )\n",
    "plt.colorbar()\n"
   ]
  }
 ],
 "metadata": {
  "kernelspec": {
   "display_name": "Python 2",
   "language": "python",
   "name": "python2"
  },
  "language_info": {
   "codemirror_mode": {
    "name": "ipython",
    "version": 2
   },
   "file_extension": ".py",
   "mimetype": "text/x-python",
   "name": "python",
   "nbconvert_exporter": "python",
   "pygments_lexer": "ipython2",
   "version": "2.7.12"
  }
 },
 "nbformat": 4,
 "nbformat_minor": 1
}
