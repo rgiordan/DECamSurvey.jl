{
 "cells": [
  {
   "cell_type": "code",
   "execution_count": 4,
   "metadata": {
    "collapsed": true
   },
   "outputs": [],
   "source": [
    "from autograd import grad, hessian\n",
    "import autograd.numpy as np\n",
    "from scipy.stats import gaussian_kde\n",
    "\n",
    "%matplotlib inline\n",
    "import matplotlib.pyplot as plt"
   ]
  },
  {
   "cell_type": "code",
   "execution_count": 69,
   "metadata": {
    "collapsed": true
   },
   "outputs": [],
   "source": [
    "\n",
    "class Model(object):\n",
    "    def __init__(self, x_info, s_info, true_theta, num_draws):\n",
    "        self.x_info = x_info\n",
    "        self.s_info = s_info\n",
    "        self.true_theta = true_theta\n",
    "        self.s_draws = np.random.normal(loc=0, scale=1 / np.sqrt(s_info), size=num_draws)\n",
    "        self.std_draws = np.random.normal(size=num_draws)\n",
    "        self.x_draws = None\n",
    "        self.x_dens = None\n",
    "\n",
    "    def mean_func(self, s, theta):\n",
    "        return theta * s ** 2\n",
    "        \n",
    "    def log_prob_x_given_s(self, x, s, theta):\n",
    "        return -0.5 * self.x_info * (x - self.mean_func(s, theta)) - 0.5 * np.log(self.x_info)\n",
    "    \n",
    "    def log_prob_s(self, s):\n",
    "        return -0.5 * self.s_info * (s ** 2) - 0.5 * np.log(self.s_info)\n",
    "    \n",
    "    def log_joint(self, s, x, theta):\n",
    "        return self.log_prob_x_given_s(x, s, theta) + self.log_prob_s(s)\n",
    "    \n",
    "    def simulate_x(self, theta):\n",
    "        self.x_draws = self.std_draws / np.sqrt(self.x_info) + model.mean_func(self.s_draws, theta)\n",
    "        self.x_dens = gaussian_kde(self.x_draws)\n",
    "        \n",
    "    def log_prob(self, theta, x_obs):\n",
    "        self.simulate_x(theta)\n",
    "        return model.x_dens.logpdf(x_obs)\n",
    "\n",
    "        "
   ]
  },
  {
   "cell_type": "code",
   "execution_count": 70,
   "metadata": {},
   "outputs": [
    {
     "name": "stdout",
     "output_type": "stream",
     "text": [
      "0.992289423216\n"
     ]
    },
    {
     "data": {
      "text/plain": [
       "[<matplotlib.lines.Line2D at 0x7f79b6d87410>]"
      ]
     },
     "execution_count": 70,
     "metadata": {},
     "output_type": "execute_result"
    },
    {
     "data": {
      "image/png": "[encoded data removed]",
      "text/plain": [
       "<matplotlib.figure.Figure at 0x7f79b6b65810>"
      ]
     },
     "metadata": {},
     "output_type": "display_data"
    }
   ],
   "source": [
    "model = Model(x_info=10., s_info=1., true_theta=0.5, num_draws=1000)\n",
    "#plt.hist(model.x_draws)\n",
    "\n",
    "theta = 4.0\n",
    "model.simulate_x(model.true_theta)\n",
    "x_grid = np.linspace(np.min(model.x_draws), np.max(model.x_draws), 1000)\n",
    "x_prob = model.x_dens(x_grid)\n",
    "x_log_prob = model.x_dens.logpdf(x_grid)\n",
    "delta_x = x_grid[1] - x_grid[0]\n",
    "print np.sum(delta_x * x_prob)\n",
    "#plt.plot(x_grid, x_prob)\n",
    "plt.plot(x_grid, x_log_prob)\n",
    "\n",
    "x_max_ind = np.argmax(x_log_prob)\n",
    "x_obs = x_grid[x_max_ind]\n",
    "plt.plot(x_obs, x_log_prob[x_max_ind], 'ro')\n"
   ]
  }
 ],
 "metadata": {
  "kernelspec": {
   "display_name": "Python 2",
   "language": "python",
   "name": "python2"
  },
  "language_info": {
   "codemirror_mode": {
    "name": "ipython",
    "version": 2
   },
   "file_extension": ".py",
   "mimetype": "text/x-python",
   "name": "python",
   "nbconvert_exporter": "python",
   "pygments_lexer": "ipython2",
   "version": "2.7.12"
  }
 },
 "nbformat": 4,
 "nbformat_minor": 2
}
